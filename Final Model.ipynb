{
 "cells": [
  {
   "cell_type": "code",
   "execution_count": 1,
   "metadata": {},
   "outputs": [],
   "source": [
    "import numpy as np\n",
    "import pandas as pd\n",
    "import matplotlib.pyplot as plt\n",
    "from sklearn.linear_model import LinearRegression\n",
    "from sklearn.metrics import mean_squared_error\n",
    "import datetime as dt\n",
    "import math\n",
    "import warnings\n",
    "warnings.filterwarnings('ignore')\n",
    "\n",
    "# Import load data from excel file (source = BGE)\n",
    "data = pd.read_excel('Historical_Load_Data.xlsx', \n",
    "                     header = None, \n",
    "                     names = ['Segment', 'Date', 'Hour 1', 'Hour 2', \n",
    "                              'Hour 3', 'Hour 4', 'Hour 5', 'Hour 6', \n",
    "                              'Hour 7', 'Hour 8', 'Hour 9', 'Hour 10', \n",
    "                              'Hour 11', 'Hour 12', 'Hour 13', \n",
    "                              'Hour 14', 'Hour 15', 'Hour 16', \n",
    "                              'Hour 17', 'Hour 18', 'Hour 19', \n",
    "                              'Hour 20', 'Hour 21', 'Hour 22', \n",
    "                              'Hour 23', 'Hour 24'])\n",
    "\n",
    "# Filter out incomplete entries\n",
    "data.dropna(inplace = True)\n",
    "\n",
    "# Convert dates to datetime\n",
    "data['Date'] = pd.to_datetime(data['Date'])"
   ]
  },
  {
   "cell_type": "code",
   "execution_count": 2,
   "metadata": {},
   "outputs": [],
   "source": [
    "# 8 BGE Schedules\n",
    "G = data['Segment'] == 'Segment:G'\n",
    "GF = data['Segment'] == 'Segment:GF'\n",
    "GL = data['Segment'] == 'Segment:GL'\n",
    "GS = data['Segment'] == 'Segment:GS'\n",
    "R = data['Segment'] == 'Segment:R'\n",
    "RH = data['Segment'] == 'Segment:RH'\n",
    "RL = data['Segment'] == 'Segment:RL'\n",
    "RLH = data['Segment'] == 'Segment:RLH'"
   ]
  },
  {
   "cell_type": "code",
   "execution_count": 3,
   "metadata": {},
   "outputs": [],
   "source": [
    "# Load data by year\n",
    "data_2007 = data['Date'].dt.year == 2007\n",
    "data_2008 = data['Date'].dt.year == 2008\n",
    "data_2009 = data['Date'].dt.year == 2009\n",
    "data_2010 = data['Date'].dt.year == 2010\n",
    "data_2011 = data['Date'].dt.year == 2011\n",
    "data_2012 = data['Date'].dt.year == 2012\n",
    "data_2013 = data['Date'].dt.year == 2013\n",
    "data_2014 = data['Date'].dt.year == 2014\n",
    "data_2015 = data['Date'].dt.year == 2015\n",
    "data_2016 = data['Date'].dt.year == 2016\n",
    "data_2017 = data['Date'].dt.year == 2017\n",
    "data_2018 = data['Date'].dt.year == 2018"
   ]
  },
  {
   "cell_type": "code",
   "execution_count": 4,
   "metadata": {},
   "outputs": [],
   "source": [
    "# Load data by month\n",
    "data_january = data['Date'].dt.month == 1\n",
    "data_february = data['Date'].dt.month == 2\n",
    "data_march = data['Date'].dt.month == 3\n",
    "data_april = data['Date'].dt.month == 4\n",
    "data_may = data['Date'].dt.month == 5\n",
    "data_june = data['Date'].dt.month == 6\n",
    "data_july = data['Date'].dt.month == 7\n",
    "data_august = data['Date'].dt.month == 8\n",
    "data_september = data['Date'].dt.month == 9\n",
    "data_october = data['Date'].dt.month == 10\n",
    "data_november = data['Date'].dt.month == 11\n",
    "data_december = data['Date'].dt.month == 12"
   ]
  },
  {
   "cell_type": "code",
   "execution_count": 5,
   "metadata": {},
   "outputs": [],
   "source": [
    "# Train: [2007 2014]\n",
    "train = data[data_2007 | data_2008 | data_2009 | data_2010 | \n",
    "             data_2011 | data_2012 | data_2013 | data_2014]\n",
    "\n",
    "# Test: [2015 2018]\n",
    "test = data[data_2015 | data_2016 | data_2017 | data_2018]\n",
    "\n",
    "# Convert datetime to ordinal for model input\n",
    "train['Date'] = data['Date'].map(dt.datetime.toordinal)\n",
    "test['Date'] = data['Date'].map(dt.datetime.toordinal)"
   ]
  },
  {
   "cell_type": "code",
   "execution_count": 28,
   "metadata": {},
   "outputs": [
    {
     "name": "stdout",
     "output_type": "stream",
     "text": [
      "Mean Squared Error (G - no weather): 1.0905238862377888e-25\n"
     ]
    }
   ],
   "source": [
    "# Schedule G\n",
    "train_G = train[G]\n",
    "test_G = test[G]\n",
    "\n",
    "X_train_G = train_G.drop('Segment', axis = 1)\n",
    "Y_train_G = train_G.drop(['Segment', 'Date'], axis = 1)\n",
    "\n",
    "X_test_G = test_G.drop('Segment', axis = 1)\n",
    "Y_test_G = test_G.drop(['Segment', 'Date'], axis = 1)\n",
    "\n",
    "regression_model = LinearRegression()\n",
    "\n",
    "regression_model.fit(X_train_G, Y_train_G)\n",
    "# print(regression_model.score(X_train_G, Y_train_G))\n",
    "\n",
    "Y_predict_G = regression_model.predict(X_test_G)\n",
    "mse_G = mean_squared_error(Y_predict_G, Y_test_G)\n",
    "print('Mean Squared Error (G - no weather): ' + str(mse_G))"
   ]
  },
  {
   "cell_type": "code",
   "execution_count": 29,
   "metadata": {},
   "outputs": [
    {
     "name": "stdout",
     "output_type": "stream",
     "text": [
      "Mean Squared Error (GF - no weather): 1.1158152516865393e-25\n"
     ]
    }
   ],
   "source": [
    "# Schedule GF\n",
    "train_GF = train[GF]\n",
    "test_GF = test[GF]\n",
    "\n",
    "X_train_GF = train_GF.drop('Segment', axis = 1)\n",
    "Y_train_GF = train_GF.drop(['Segment', 'Date'], axis = 1)\n",
    "\n",
    "X_test_GF = test_GF.drop('Segment', axis = 1)\n",
    "Y_test_GF = test_GF.drop(['Segment', 'Date'], axis = 1)\n",
    "\n",
    "regression_model.fit(X_train_GF, Y_train_GF)\n",
    "# print(regression_model.score(X_train_GF, Y_train_GF))\n",
    "\n",
    "Y_predict_GF = regression_model.predict(X_test_GF)\n",
    "mse_GF = mean_squared_error(Y_predict_GF, Y_test_GF)\n",
    "print('Mean Squared Error (GF - no weather): ' + str(mse_GF))"
   ]
  },
  {
   "cell_type": "code",
   "execution_count": 30,
   "metadata": {},
   "outputs": [
    {
     "name": "stdout",
     "output_type": "stream",
     "text": [
      "Mean Squared Error (GL - no weather): 6.382025393712795e-26\n"
     ]
    }
   ],
   "source": [
    "# Schedule GL\n",
    "train_GL = train[GL]\n",
    "test_GL = test[GL]\n",
    "\n",
    "X_train_GL = train_GL.drop('Segment', axis = 1)\n",
    "Y_train_GL = train_GL.drop(['Segment', 'Date'], axis = 1)\n",
    "\n",
    "X_test_GL = test_GL.drop('Segment', axis = 1)\n",
    "Y_test_GL = test_GL.drop(['Segment', 'Date'], axis = 1)\n",
    "\n",
    "regression_model.fit(X_train_GL, Y_train_GL)\n",
    "# print(regression_model.score(X_train_GL, Y_train_GL))\n",
    "\n",
    "Y_predict_GL = regression_model.predict(X_test_GL)\n",
    "mse_GL = mean_squared_error(Y_predict_GL, Y_test_GL)\n",
    "print('Mean Squared Error (GL - no weather): ' + str(mse_GL))"
   ]
  },
  {
   "cell_type": "code",
   "execution_count": 9,
   "metadata": {},
   "outputs": [
    {
     "name": "stdout",
     "output_type": "stream",
     "text": [
      "Mean Squared Error (GS - no weather): 8.951839174832315e-13\n"
     ]
    }
   ],
   "source": [
    "# Schedule GS\n",
    "train_GS = train[GS]\n",
    "test_GS = test[GS]\n",
    "\n",
    "X_train_GS = train_GS.drop('Segment', axis = 1)\n",
    "Y_train_GS = train_GS.drop(['Segment', 'Date'], axis = 1)\n",
    "\n",
    "X_test_GS = test_GS.drop('Segment', axis = 1)\n",
    "Y_test_GS = test_GS.drop(['Segment', 'Date'], axis = 1)\n",
    "\n",
    "regression_model.fit(X_train_GS, Y_train_GS)\n",
    "# print(regression_model.score(X_train_GS, Y_train_GS))\n",
    "\n",
    "Y_predict_GS = regression_model.predict(X_test_GS)\n",
    "mse_GS = mean_squared_error(Y_predict_GS, Y_test_GS)\n",
    "print('Mean Squared Error (GS - no weather): ' + str(mse_GS))"
   ]
  },
  {
   "cell_type": "code",
   "execution_count": 10,
   "metadata": {},
   "outputs": [
    {
     "name": "stdout",
     "output_type": "stream",
     "text": [
      "Mean Squared Error (R - no weather): 9.868957765102867e-13\n"
     ]
    }
   ],
   "source": [
    "# Schedule R\n",
    "train_R = train[R]\n",
    "test_R = test[R]\n",
    "\n",
    "X_train_R = train_R.drop('Segment', axis = 1)\n",
    "Y_train_R = train_R.drop(['Segment', 'Date'], axis = 1)\n",
    "\n",
    "X_test_R = test_R.drop('Segment', axis = 1)\n",
    "Y_test_R = test_R.drop(['Segment', 'Date'], axis = 1)\n",
    "\n",
    "regression_model.fit(X_train_R, Y_train_R)\n",
    "# print(regression_model.score(X_train_R, Y_train_R))\n",
    "\n",
    "Y_predict_R = regression_model.predict(X_test_R)\n",
    "mse_R = mean_squared_error(Y_predict_R, Y_test_R)\n",
    "print('Mean Squared Error (R - no weather): ' + str(mse_R))"
   ]
  },
  {
   "cell_type": "code",
   "execution_count": 11,
   "metadata": {},
   "outputs": [
    {
     "name": "stdout",
     "output_type": "stream",
     "text": [
      "Mean Squared Error (RH - no weather): 4.081655948041772e-15\n"
     ]
    }
   ],
   "source": [
    "# Schedule RH\n",
    "train_RH = train[RH]\n",
    "test_RH = test[RH]\n",
    "\n",
    "X_train_RH = train_RH.drop('Segment', axis = 1)\n",
    "Y_train_RH = train_RH.drop(['Segment', 'Date'], axis = 1)\n",
    "\n",
    "X_test_RH = test_RH.drop('Segment', axis = 1)\n",
    "Y_test_RH = test_RH.drop(['Segment', 'Date'], axis = 1)\n",
    "\n",
    "regression_model.fit(X_train_RH, Y_train_RH)\n",
    "# print(regression_model.score(X_train_RH, Y_train_RH))\n",
    "\n",
    "Y_predict_RH = regression_model.predict(X_test_RH)\n",
    "mse_RH = mean_squared_error(Y_predict_RH, Y_test_RH)\n",
    "print('Mean Squared Error (RH - no weather): ' + str(mse_RH))"
   ]
  },
  {
   "cell_type": "code",
   "execution_count": 12,
   "metadata": {},
   "outputs": [
    {
     "name": "stdout",
     "output_type": "stream",
     "text": [
      "Mean Squared Error (RL - no weather): 2.8215787267099895e-15\n"
     ]
    }
   ],
   "source": [
    "# Schedule RL\n",
    "train_RL = train[RL]\n",
    "test_RL = test[RL]\n",
    "\n",
    "X_train_RL = train_RL.drop('Segment', axis = 1)\n",
    "Y_train_RL = train_RL.drop(['Segment', 'Date'], axis = 1)\n",
    "\n",
    "X_test_RL = test_RL.drop('Segment', axis = 1)\n",
    "Y_test_RL = test_RL.drop(['Segment', 'Date'], axis = 1)\n",
    "\n",
    "regression_model.fit(X_train_RL, Y_train_RL)\n",
    "# print(regression_model.score(X_train_RL, Y_train_RL))\n",
    "\n",
    "Y_predict_RL = regression_model.predict(X_test_RL)\n",
    "mse_RL = mean_squared_error(Y_predict_RL, Y_test_RL)\n",
    "print('Mean Squared Error (RL - no weather): ' + str(mse_RL))"
   ]
  },
  {
   "cell_type": "code",
   "execution_count": 13,
   "metadata": {},
   "outputs": [
    {
     "name": "stdout",
     "output_type": "stream",
     "text": [
      "Mean Squared Error (RLH - no weather): 1.8398084696079792e-15\n"
     ]
    }
   ],
   "source": [
    "# Schedule RLH\n",
    "train_RLH = train[RLH]\n",
    "test_RLH = test[RLH]\n",
    "\n",
    "X_train_RLH = train_RLH.drop('Segment', axis = 1)\n",
    "Y_train_RLH = train_RLH.drop(['Segment', 'Date'], axis = 1)\n",
    "\n",
    "X_test_RLH = test_RLH.drop('Segment', axis = 1)\n",
    "Y_test_RLH = test_RLH.drop(['Segment', 'Date'], axis = 1)\n",
    "\n",
    "regression_model.fit(X_train_RLH, Y_train_RLH)\n",
    "# print(regression_model.score(X_train_RLH, Y_train_RLH))\n",
    "\n",
    "Y_predict_RLH = regression_model.predict(X_test_RLH)\n",
    "mse_RLH = mean_squared_error(Y_predict_RLH, Y_test_RLH)\n",
    "print('Mean Squared Error (RLH - no weather): ' + str(mse_RLH))"
   ]
  },
  {
   "cell_type": "code",
   "execution_count": 14,
   "metadata": {},
   "outputs": [
    {
     "name": "stdout",
     "output_type": "stream",
     "text": [
      "Average MSE - no weather: 3.2030863874633834e-25\n"
     ]
    },
    {
     "data": {
      "image/png": "[encoded data removed]",
      "text/plain": [
       "<Figure size 432x288 with 1 Axes>"
      ]
     },
     "metadata": {},
     "output_type": "display_data"
    }
   ],
   "source": [
    "# Mean Squared Error across all 8 schedules (no weather data considered)\n",
    "X = ['G', 'GF', 'GL', 'GS', 'R', 'RH', 'RL', 'RLH']\n",
    "Y = [mse_G, mse_GF, mse_GL, mse_GS, mse_R, mse_RH, mse_RL, mse_RLH]\n",
    "\n",
    "plt.bar(X,Y)\n",
    "plt.xlabel('BGE Schedule')\n",
    "plt.ylabel('MSE')\n",
    "plt.title('MSE for BGE Schedules - no weather')\n",
    "\n",
    "print('Average MSE - no weather: ' + str(sum(Y)/len(Y)))"
   ]
  },
  {
   "cell_type": "code",
   "execution_count": 15,
   "metadata": {},
   "outputs": [],
   "source": [
    "# Import weather data from CSV file (source = NOAA)\n",
    "weather_data = pd.read_csv('1559598.csv')\n",
    "weather_data = weather_data.drop(['STATION', 'NAME', 'SNWD', 'TAVG'], \n",
    "                                 axis = 1)\n",
    "weather_data = weather_data.rename(index=str, \n",
    "                                   columns={\"DATE\": \"Date\"})\n",
    "\n",
    "# Convert date to datetime\n",
    "weather_data['Date'] = pd.to_datetime(weather_data['Date'])\n",
    "\n",
    "# Merge weather data with load data\n",
    "newdata = data.merge(weather_data, on = 'Date')"
   ]
  },
  {
   "cell_type": "code",
   "execution_count": 16,
   "metadata": {},
   "outputs": [],
   "source": [
    "G = newdata['Segment'] == 'Segment:G'\n",
    "GF = newdata['Segment'] == 'Segment:GF'\n",
    "GL = newdata['Segment'] == 'Segment:GL'\n",
    "GS = newdata['Segment'] == 'Segment:GS'\n",
    "R = newdata['Segment'] == 'Segment:R'\n",
    "RH = newdata['Segment'] == 'Segment:RH'\n",
    "RL = newdata['Segment'] == 'Segment:RL'\n",
    "RLH = newdata['Segment'] == 'Segment:RLH'"
   ]
  },
  {
   "cell_type": "code",
   "execution_count": 17,
   "metadata": {},
   "outputs": [],
   "source": [
    "data_2007 = newdata['Date'].dt.year == 2007\n",
    "data_2008 = newdata['Date'].dt.year == 2008\n",
    "data_2009 = newdata['Date'].dt.year == 2009\n",
    "data_2010 = newdata['Date'].dt.year == 2010\n",
    "data_2011 = newdata['Date'].dt.year == 2011\n",
    "data_2012 = newdata['Date'].dt.year == 2012\n",
    "data_2013 = newdata['Date'].dt.year == 2013\n",
    "data_2014 = newdata['Date'].dt.year == 2014\n",
    "data_2015 = newdata['Date'].dt.year == 2015\n",
    "data_2016 = newdata['Date'].dt.year == 2016\n",
    "data_2017 = newdata['Date'].dt.year == 2017\n",
    "data_2018 = newdata['Date'].dt.year == 2018"
   ]
  },
  {
   "cell_type": "code",
   "execution_count": 18,
   "metadata": {},
   "outputs": [],
   "source": [
    "train = newdata[data_2007 | data_2008 | data_2009 | data_2010 | \n",
    "        data_2011 | data_2012 | data_2013 | data_2014]\n",
    "test = newdata[data_2015 | data_2016 | data_2017 | data_2018]\n",
    "\n",
    "train['Date'] = newdata['Date'].map(dt.datetime.toordinal)\n",
    "test['Date'] = newdata['Date'].map(dt.datetime.toordinal)"
   ]
  },
  {
   "cell_type": "code",
   "execution_count": 19,
   "metadata": {},
   "outputs": [
    {
     "name": "stdout",
     "output_type": "stream",
     "text": [
      "Mean Squared Error (G - weather): 1.7419997795277642e-14\n"
     ]
    }
   ],
   "source": [
    "# Schedule G\n",
    "train_G = train[G]\n",
    "test_G = test[G]\n",
    "\n",
    "X_train_G = train_G.drop('Segment', axis = 1)\n",
    "Y_train_G = train_G.drop(['Segment', 'Date', 'PRCP', \n",
    "                          'SNOW', 'TMAX', 'TMIN'], axis = 1)\n",
    "\n",
    "X_test_G = test_G.drop('Segment', axis = 1)\n",
    "Y_test_G = test_G.drop(['Segment', 'Date', 'PRCP', \n",
    "                        'SNOW', 'TMAX', 'TMIN'], axis = 1)\n",
    "\n",
    "regression_model = LinearRegression()\n",
    "\n",
    "regression_model.fit(X_train_G, Y_train_G)\n",
    "# print(regression_model.score(X_train_G, Y_train_G))\n",
    "\n",
    "Y_predict_G = regression_model.predict(X_test_G)\n",
    "mse_G = mean_squared_error(Y_predict_G, Y_test_G)\n",
    "print('Mean Squared Error (G - weather): ' + str(mse_G))"
   ]
  },
  {
   "cell_type": "code",
   "execution_count": 20,
   "metadata": {},
   "outputs": [
    {
     "name": "stdout",
     "output_type": "stream",
     "text": [
      "Mean Squared Error (GF - weather): 4.607876764845442e-14\n"
     ]
    }
   ],
   "source": [
    "# Schedule GF\n",
    "train_GF = train[GF]\n",
    "test_GF = test[GF]\n",
    "\n",
    "X_train_GF = train_GF.drop('Segment', axis = 1)\n",
    "Y_train_GF = train_GF.drop(['Segment', 'Date', 'PRCP', \n",
    "                            'SNOW', 'TMAX', 'TMIN'], axis = 1)\n",
    "\n",
    "X_test_GF = test_GF.drop('Segment', axis = 1)\n",
    "Y_test_GF = test_GF.drop(['Segment', 'Date', 'PRCP', \n",
    "                          'SNOW', 'TMAX', 'TMIN'], axis = 1)\n",
    "\n",
    "regression_model.fit(X_train_GF, Y_train_GF)\n",
    "# print(regression_model.score(X_train_GF, Y_train_GF))\n",
    "\n",
    "Y_predict_GF = regression_model.predict(X_test_GF)\n",
    "mse_GF = mean_squared_error(Y_predict_GF, Y_test_GF)\n",
    "print('Mean Squared Error (GF - weather): ' + str(mse_GF))"
   ]
  },
  {
   "cell_type": "code",
   "execution_count": 21,
   "metadata": {},
   "outputs": [
    {
     "name": "stdout",
     "output_type": "stream",
     "text": [
      "Mean Squared Error (GL - weather): 2.486907525856223e-13\n"
     ]
    }
   ],
   "source": [
    "# Schedule GL\n",
    "train_GL = train[GL]\n",
    "test_GL = test[GL]\n",
    "\n",
    "X_train_GL = train_GL.drop('Segment', axis = 1)\n",
    "Y_train_GL = train_GL.drop(['Segment', 'Date', 'PRCP', \n",
    "                            'SNOW', 'TMAX', 'TMIN'], axis = 1)\n",
    "\n",
    "X_test_GL = test_GL.drop('Segment', axis = 1)\n",
    "Y_test_GL = test_GL.drop(['Segment', 'Date', 'PRCP', \n",
    "                          'SNOW', 'TMAX', 'TMIN'], axis = 1)\n",
    "\n",
    "regression_model.fit(X_train_GL, Y_train_GL)\n",
    "# print(regression_model.score(X_train_GL, Y_train_GL))\n",
    "\n",
    "Y_predict_GL = regression_model.predict(X_test_GL)\n",
    "mse_GL = mean_squared_error(Y_predict_GL, Y_test_GL)\n",
    "print('Mean Squared Error (GL - weather): ' + str(mse_GL))"
   ]
  },
  {
   "cell_type": "code",
   "execution_count": 22,
   "metadata": {},
   "outputs": [
    {
     "name": "stdout",
     "output_type": "stream",
     "text": [
      "Mean Squared Error (GS - weather): 4.8304230632267745e-14\n"
     ]
    }
   ],
   "source": [
    "# Schedule GS\n",
    "train_GS = train[GS]\n",
    "test_GS = test[GS]\n",
    "\n",
    "X_train_GS = train_GS.drop('Segment', axis = 1)\n",
    "Y_train_GS = train_GS.drop(['Segment', 'Date', 'PRCP', \n",
    "                            'SNOW', 'TMAX', 'TMIN'], axis = 1)\n",
    "\n",
    "X_test_GS = test_GS.drop('Segment', axis = 1)\n",
    "Y_test_GS = test_GS.drop(['Segment', 'Date', 'PRCP', \n",
    "                          'SNOW', 'TMAX', 'TMIN'], axis = 1)\n",
    "\n",
    "regression_model.fit(X_train_GS, Y_train_GS)\n",
    "# print(regression_model.score(X_train_GS, Y_train_GS))\n",
    "\n",
    "Y_predict_GS = regression_model.predict(X_test_GS)\n",
    "mse_GS = mean_squared_error(Y_predict_GS, Y_test_GS)\n",
    "print('Mean Squared Error (GS - weather): ' + str(mse_GS))"
   ]
  },
  {
   "cell_type": "code",
   "execution_count": 23,
   "metadata": {},
   "outputs": [
    {
     "name": "stdout",
     "output_type": "stream",
     "text": [
      "Mean Squared Error (R - weather): 1.1523141399624698e-14\n"
     ]
    }
   ],
   "source": [
    "# Schedule R\n",
    "train_R = train[R]\n",
    "test_R = test[R]\n",
    "\n",
    "X_train_R = train_R.drop('Segment', axis = 1)\n",
    "Y_train_R = train_R.drop(['Segment', 'Date', 'PRCP', \n",
    "                          'SNOW', 'TMAX', 'TMIN'], axis = 1)\n",
    "\n",
    "X_test_R = test_R.drop('Segment', axis = 1)\n",
    "Y_test_R = test_R.drop(['Segment', 'Date', 'PRCP', \n",
    "                        'SNOW', 'TMAX', 'TMIN'], axis = 1)\n",
    "\n",
    "regression_model.fit(X_train_R, Y_train_R)\n",
    "# print(regression_model.score(X_train_R, Y_train_R))\n",
    "\n",
    "Y_predict_R = regression_model.predict(X_test_R)\n",
    "mse_R = mean_squared_error(Y_predict_R, Y_test_R)\n",
    "print('Mean Squared Error (R - weather): ' + str(mse_R))"
   ]
  },
  {
   "cell_type": "code",
   "execution_count": 24,
   "metadata": {},
   "outputs": [
    {
     "name": "stdout",
     "output_type": "stream",
     "text": [
      "Mean Squared Error (RH - weather): 3.8913697000382767e-14\n"
     ]
    }
   ],
   "source": [
    "# Schedule RH\n",
    "train_RH = train[RH]\n",
    "test_RH = test[RH]\n",
    "\n",
    "X_train_RH = train_RH.drop('Segment', axis = 1)\n",
    "Y_train_RH = train_RH.drop(['Segment', 'Date', 'PRCP', \n",
    "                            'SNOW', 'TMAX', 'TMIN'], axis = 1)\n",
    "\n",
    "X_test_RH = test_RH.drop('Segment', axis = 1)\n",
    "Y_test_RH = test_RH.drop(['Segment', 'Date', 'PRCP', \n",
    "                          'SNOW', 'TMAX', 'TMIN'], axis = 1)\n",
    "\n",
    "regression_model.fit(X_train_RH, Y_train_RH)\n",
    "# print(regression_model.score(X_train_RH, Y_train_RH))\n",
    "\n",
    "Y_predict_RH = regression_model.predict(X_test_RH)\n",
    "mse_RH = mean_squared_error(Y_predict_RH, Y_test_RH)\n",
    "print('Mean Squared Error (RH - weather): ' + str(mse_RH))"
   ]
  },
  {
   "cell_type": "code",
   "execution_count": 25,
   "metadata": {},
   "outputs": [
    {
     "name": "stdout",
     "output_type": "stream",
     "text": [
      "Mean Squared Error (RL - weather): 1.8810703771788823e-14\n"
     ]
    }
   ],
   "source": [
    "# Schedule RL\n",
    "train_RL = train[RL]\n",
    "test_RL = test[RL]\n",
    "\n",
    "X_train_RL = train_RL.drop('Segment', axis = 1)\n",
    "Y_train_RL = train_RL.drop(['Segment', 'Date', 'PRCP', \n",
    "                            'SNOW', 'TMAX', 'TMIN'], axis = 1)\n",
    "\n",
    "X_test_RL = test_RL.drop('Segment', axis = 1)\n",
    "Y_test_RL = test_RL.drop(['Segment', 'Date', 'PRCP', \n",
    "                          'SNOW', 'TMAX', 'TMIN'], axis = 1)\n",
    "\n",
    "regression_model.fit(X_train_RL, Y_train_RL)\n",
    "# print(regression_model.score(X_train_RL, Y_train_RL))\n",
    "\n",
    "Y_predict_RL = regression_model.predict(X_test_RL)\n",
    "mse_RL = mean_squared_error(Y_predict_RL, Y_test_RL)\n",
    "print('Mean Squared Error (RL - weather): ' + str(mse_RL))"
   ]
  },
  {
   "cell_type": "code",
   "execution_count": 26,
   "metadata": {},
   "outputs": [
    {
     "name": "stdout",
     "output_type": "stream",
     "text": [
      "Mean Squared Error (RLH - weather): 9.968164549340844e-13\n"
     ]
    }
   ],
   "source": [
    "# Schedule RLH\n",
    "train_RLH = train[RLH]\n",
    "test_RLH = test[RLH]\n",
    "\n",
    "X_train_RLH = train_RLH.drop('Segment', axis = 1)\n",
    "Y_train_RLH = train_RLH.drop(['Segment', 'Date', 'PRCP', \n",
    "                              'SNOW', 'TMAX', 'TMIN'], axis = 1)\n",
    "\n",
    "X_test_RLH = test_RLH.drop('Segment', axis = 1)\n",
    "Y_test_RLH = test_RLH.drop(['Segment', 'Date', 'PRCP', \n",
    "                            'SNOW', 'TMAX', 'TMIN'], axis = 1)\n",
    "\n",
    "regression_model.fit(X_train_RLH, Y_train_RLH)\n",
    "# print(regression_model.score(X_train_RLH, Y_train_RLH))\n",
    "\n",
    "Y_predict_RLH = regression_model.predict(X_test_RLH)\n",
    "mse_RLH = mean_squared_error(Y_predict_RLH, Y_test_RLH)\n",
    "print('Mean Squared Error (RLH - weather): ' + str(math.sqrt(mse_RLH)))"
   ]
  },
  {
   "cell_type": "code",
   "execution_count": 27,
   "metadata": {},
   "outputs": [
    {
     "name": "stdout",
     "output_type": "stream",
     "text": [
      "Average MSE - weather considered: 1.3278138053443314e-25\n"
     ]
    },
    {
     "data": {
      "image/png": "[encoded data removed]",
      "text/plain": [
       "<Figure size 432x288 with 1 Axes>"
      ]
     },
     "metadata": {},
     "output_type": "display_data"
    }
   ],
   "source": [
    "# Mean Squared Error across all 8 schedules (with weather data considered)\n",
    "X = ['G', 'GF', 'GL', 'GS', 'R', 'RH', 'RL', 'RLH']\n",
    "Y = [mse_G, mse_GF, mse_GL, mse_GS, mse_R, mse_RH, mse_RL, mse_RLH]\n",
    "\n",
    "plt.bar(X,Y)\n",
    "plt.xlabel('BGE Schedule')\n",
    "plt.ylabel('MSE')\n",
    "plt.title('MSE for BGE Schedules - weather')\n",
    "\n",
    "print('Average MSE - weather considered: ' + str(sum(Y)/len(Y)))"
   ]
  }
 ],
 "metadata": {
  "kernelspec": {
   "display_name": "Python 3",
   "language": "python",
   "name": "python3"
  },
  "language_info": {
   "codemirror_mode": {
    "name": "ipython",
    "version": 3
   },
   "file_extension": ".py",
   "mimetype": "text/x-python",
   "name": "python",
   "nbconvert_exporter": "python",
   "pygments_lexer": "ipython3",
   "version": "3.6.5"
  }
 },
 "nbformat": 4,
 "nbformat_minor": 2
}
